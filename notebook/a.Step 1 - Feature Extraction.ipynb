{
 "cells": [
  {
   "cell_type": "code",
   "execution_count": null,
   "metadata": {
    "collapsed": true
   },
   "outputs": [],
   "source": [
    "# Run with python 2.7\n",
    "import numpy as np\n",
    "import shutil\n",
    "import os\n",
    "import pandas as pd\n",
    "import numpy as np\n",
    "import FATS\n",
    "import glob\n",
    "import numpy as np\n",
    "\n",
    "# Root directory of the project\n",
    "ROOT_DIR = os.path.abspath(\"../code\")\n",
    "# Import code\n",
    "sys.path.append(ROOT_DIR)\n",
    "\n",
    "from preprocessing import sigma_clipping\n"
   ]
  },
  {
   "cell_type": "code",
   "execution_count": null,
   "metadata": {
    "collapsed": true
   },
   "outputs": [],
   "source": [
    "'--------------------------------------------------------------------------------------------------------------------------'\n",
    "# Feature extraction\n",
    "# select_features = ['Skew','Mean', 'Std', 'SmallKurtosis', 'Rcs', 'Amplitude', 'FluxPercentileRatioMid20', 'FluxPercentileRatioMid35', \\\n",
    "#'FluxPercentileRatioMid50', 'FluxPercentileRatioMid65', 'FluxPercentileRatioMid80', 'Freq1_harmonics_amplitude_0', 'Meanvariance', \\\n",
    "#'PeriodLS', 'Period_fit', 'PercentDifferenceFluxPercentile']\n",
    "\n",
    "# data_columns : ['magnitude', 'time','error']\n",
    "# data_dir     : The directory where the data is stored\n",
    "# type_ID_list : List of file name for a specific class/category\n",
    "# save_dir     : The directory you want to save your features\n",
    "\n",
    "\n",
    "'--------------------------------------------------------------------------------------------------------------------------'\n",
    "\n",
    "def feature_extraction(data_dir, true_class, data_columns, select_features, save_dir):\n",
    "    files  = glob.glob(data_dir+'Type'+str(true_class)+'/*.dat')\n",
    "    #files  = files[0:3]\n",
    "    print(len(files))\n",
    "    feature_file = pd.DataFrame()\n",
    "    for file in files:\n",
    "        filename = os.path.basename(str(file))\n",
    "        file_name = filename[0:-4]\n",
    "        print(file_name)\n",
    "\n",
    "        data          = np.loadtxt(file)\n",
    "        date          = data[:,0]\n",
    "        mag     = data[:,1]\n",
    "        mag_err = data[:,2]\n",
    "\n",
    "        time, magnitude, magnitude_err = sigma_clipping(date,mag,mag_err,threshold=3,iteration=2)\n",
    "        print('length of data is {} before clipping and length of data after clipping is {}'.format(len(mag),len(magnitude)))\n",
    "\n",
    "        # Feature Extraction Method\n",
    "        lc              = np.array([ magnitude, time, magnitude_err])\n",
    "        feature_extract = FATS.FeatureSpace(Data=data_columns, featureList = select_features)\n",
    "        features_cal    = feature_extract.calculateFeature(lc)\n",
    "        features_name   = features_cal.result(method='features')\n",
    "        features_value  = features_cal.result(method='array')\n",
    "        features_df     = pd.DataFrame(features_value.reshape(1,len(select_features)))\n",
    "        features_df['File_Name'] = file_name\n",
    "        features_df['True_class_labels'] = true_class\n",
    "        feature_file = feature_file.append(features_df)\n",
    "\n",
    "    feature_file.to_csv(save_dir+'Type'+str(true_class)+'_features.csv',index=None)\n",
    "  "
   ]
  },
  {
   "cell_type": "code",
   "execution_count": null,
   "metadata": {
    "collapsed": true
   },
   "outputs": [],
   "source": [
    "# Here we only need to change foldername and list_class(classes(13)) - 13 can be changed from 0 to 13 class \t\t\n",
    "# Creating a directory and overwrite directory if it exists\n",
    "\n",
    "features = ['Skew', 'Mean', 'Std', 'SmallKurtosis','Amplitude', 'Meanvariance']\n",
    "# Call function to extract features \n",
    "feature_extraction(data_dir='../data/training_set/', true_class=12, data_columns = ['magnitude', 'time','error'], \\\n",
    "    select_features = features, save_dir = \"../data/training_set_features/\")\n"
   ]
  }
 ],
 "metadata": {
  "kernelspec": {
   "display_name": "Python 3",
   "language": "python",
   "name": "python3"
  },
  "language_info": {
   "codemirror_mode": {
    "name": "ipython",
    "version": 3
   },
   "file_extension": ".py",
   "mimetype": "text/x-python",
   "name": "python",
   "nbconvert_exporter": "python",
   "pygments_lexer": "ipython3",
   "version": "3.5.3"
  }
 },
 "nbformat": 4,
 "nbformat_minor": 2
}
