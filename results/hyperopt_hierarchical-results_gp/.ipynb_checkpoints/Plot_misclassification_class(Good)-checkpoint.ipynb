{
 "cells": [
  {
   "cell_type": "code",
   "execution_count": 1,
   "metadata": {
    "collapsed": true
   },
   "outputs": [],
   "source": [
    "import numpy as np\n",
    "import shutil\n",
    "import os\n",
    "import glob\n",
    "import pandas as pd\n",
    "import matplotlib.pylab as plt\n",
    "\n",
    "from sklearn.feature_selection import mutual_info_classif\n",
    "% matplotlib inline\n",
    "\n",
    "plt.rc('text', usetex=True)\n",
    "plt.rc('font',**{'family':'serif','serif':['Palatino']})\n",
    "figSize  = (12, 8)\n",
    "fontSize = 20"
   ]
  },
  {
   "cell_type": "code",
   "execution_count": 2,
   "metadata": {
    "collapsed": true
   },
   "outputs": [],
   "source": [
    "classes_types=[\"Type 3\" , \"Type 8\"]\n",
    "types ='Type3_Type8'\n",
    "\n",
    "true_class_1 = 3\n",
    "true_class_2 = 8\n",
    "\n",
    "nClasses=2\n",
    "plots_dir= './plots/'\n",
    "results_dir = './results/'\n",
    "misclassify_dir = r'./results/Misclassification_'\n",
    "dotfile_dir = './Decision_tree_plots/'\n",
    "savedir_decision_boundary ='./decision_boundary_plots/'\n",
    "\n",
    "\n",
    "data_feature_names = [ 'Skew', 'Mean',  'Sigma', 'Kurtosis', \"Period_LS\", \"Amplitude\", \"Mean Variance\" ]\n"
   ]
  },
  {
   "cell_type": "code",
   "execution_count": 3,
   "metadata": {
    "collapsed": true
   },
   "outputs": [],
   "source": [
    "def load_misclassify_data(data_misclassify_dir= misclassify_dir + types + '_MLP.txt'):\n",
    "    data_mis = pd.read_csv(data_misclassify_dir, sep='\\t')\n",
    "    miscla_filename = data_mis['File_names']\n",
    "    class_labelling = data_mis['True_class_label']\n",
    "    misclassify_name = []\n",
    "    true_class_label = []\n",
    "    for i in range(miscla_filename.shape[0]):\n",
    "        name_file, labelling_types = miscla_filename[i], class_labelling[i]\n",
    "        misclassify_name.append(name_file)\n",
    "        true_class_label.append(labelling_types)\n",
    "        \n",
    "    return misclassify_name, true_class_label\n",
    "\n",
    "\n"
   ]
  },
  {
   "cell_type": "code",
   "execution_count": 4,
   "metadata": {
    "collapsed": false
   },
   "outputs": [],
   "source": [
    "def misclassified_plot(data_dir, misclassify_name, true_class_label, save_path,classifier='_MLP'):\n",
    "    x = len(misclassify_name)\n",
    "    for i in range(0,x):\n",
    "        data          = np.loadtxt(data_dir  +str(misclassify_name[i]) + '.dat')\n",
    "        time          = data[:,0]\n",
    "        magnitude     = data[:,1]\n",
    "        magnitude_err = data[:,2]\n",
    "        \n",
    "        \n",
    "        plt.figure(figsize = figSize)\n",
    "        plt.scatter(time, magnitude, c='r', s = 25.0, marker='o')\n",
    "        plt.errorbar(time, magnitude, yerr=magnitude_err, c='y', linestyle ='None', capsize=3, elinewidth=1.0, markeredgewidth=1.0)\n",
    "        plt.xlabel(\"$Time (MJD)$\", fontsize=fontSize)\n",
    "        plt.ylabel(\"$Magnitude$\", fontsize=fontSize)\n",
    "        plt.tick_params(axis='both', which='major', labelsize=fontSize)\n",
    "        \n",
    "        if true_class_label[i] == true_class_1:\n",
    "            plt.title('File Name: '+ str(misclassify_name[i])+'.dat, '+' True Class: Type '+str(true_class_label[i]) +',  '+ 'Predicted: Type '+ str(true_class_2),fontsize=fontSize)\n",
    "        else:\n",
    "             plt.title('File Name: '+ str(misclassify_name[i])+'.dat, '+' True Class: Type '+str(true_class_label[i]) +',  '+ 'Predicted: Type '+ str(true_class_1),fontsize=fontSize)\n",
    "    \n",
    "        plt.gca().invert_yaxis()\n",
    "        plt.tight_layout()\n",
    "        plt.savefig(save_path + str(misclassify_name[i]) + '_Type' + str(true_class_1)+'_Type'+str(true_class_2)+classifier+'.pdf')\n",
    "        plt.close()\n",
    "        \n"
   ]
  },
  {
   "cell_type": "code",
   "execution_count": null,
   "metadata": {
    "collapsed": false
   },
   "outputs": [],
   "source": [
    "misclassify_name, true_class_label = load_misclassify_data(data_misclassify_dir= misclassify_dir + types + '_DT.txt')\n",
    "\n",
    "misclassified_plot(data_dir='../../SSS_Per_Var_Cat/', misclassify_name=misclassify_name, \\\n",
    "                   true_class_label=true_class_label, save_path = './misclassified_plots/',classifier='_DT')\n",
    "    \n",
    "    \n",
    "\n"
   ]
  },
  {
   "cell_type": "code",
   "execution_count": null,
   "metadata": {
    "collapsed": true
   },
   "outputs": [],
   "source": []
  }
 ],
 "metadata": {
  "kernelspec": {
   "display_name": "Python 3",
   "language": "python",
   "name": "python3"
  },
  "language_info": {
   "codemirror_mode": {
    "name": "ipython",
    "version": 3
   },
   "file_extension": ".py",
   "mimetype": "text/x-python",
   "name": "python",
   "nbconvert_exporter": "python",
   "pygments_lexer": "ipython3",
   "version": "3.5.3"
  }
 },
 "nbformat": 4,
 "nbformat_minor": 2
}
