{
 "cells": [
  {
   "cell_type": "code",
   "execution_count": 8,
   "metadata": {
    "collapsed": true
   },
   "outputs": [],
   "source": [
    "import numpy as np\n",
    "import shutil\n",
    "import os\n",
    "import glob\n",
    "import pandas as pd\n",
    "import matplotlib.pylab as plt\n",
    "\n",
    "#plt.switch_backend('agg')\n",
    "% matplotlib inline\n",
    "\n",
    "np.seterr(all = 'ignore')\n",
    "np.set_printoptions(precision=3, suppress = True)\n",
    "\n",
    "plt.rc('text', usetex=True)\n",
    "plt.rc('font',**{'family':'serif','serif':['Times New Roman']})\n",
    "figSize  = (12, 6)\n",
    "fontSize = 20"
   ]
  },
  {
   "cell_type": "code",
   "execution_count": 29,
   "metadata": {
    "collapsed": true
   },
   "outputs": [],
   "source": [
    "def data_augmentation(data_dir,true_class, number_of_samples,save_aug_dir):\n",
    "    \n",
    "    files = glob.glob(data_dir+'Type'+str(true_class)+'/*.dat')\n",
    "#     files    = files[3000::]\n",
    "    print(len(files))\n",
    "    for file in files:\n",
    "        filename  = os.path.basename(str(file))\n",
    "        file_name = filename[0:-4]\n",
    "        #print(file_name)\n",
    "        data      = pd.read_csv(file, sep=' ', header=None)\n",
    "        time      = data.iloc[:,0]\n",
    "        magnitude = data.iloc[:,1]\n",
    "        std_mag   = data.iloc[:,2]\n",
    "\n",
    "        augmented_data = pd.DataFrame()\n",
    "        N  = data.shape[0]\n",
    "        s = np.random.multivariate_normal(np.array(magnitude), np.identity(N)*np.array(std_mag)**2, number_of_samples)\n",
    "        s = s.T\n",
    "        #print(s.shape)\n",
    "\n",
    "        df = pd.DataFrame(s)\n",
    "        df.insert(loc=0, column='0', value=time)\n",
    "        df.insert(loc=1, column='1', value=magnitude)  \n",
    "        augmented_data = augmented_data.append(df)\n",
    "        augmented_data.to_csv(save_aug_dir + file_name+'_fake_lc.csv',header=None)\n",
    "\n",
    "\n",
    "    \n",
    "    "
   ]
  },
  {
   "cell_type": "code",
   "execution_count": 32,
   "metadata": {},
   "outputs": [
    {
     "name": "stdout",
     "output_type": "stream",
     "text": [
      "153\n"
     ]
    }
   ],
   "source": [
    "data_dir = '../Data/'\n",
    "save_folder = './data/fake_lc/'\n",
    "number_of_samples = 85\n",
    "true_class= 12\n",
    "\n",
    "foldername  = \"Type12_fake_lc\" #need to change\n",
    "\n",
    "if os.path.exists(foldername):\n",
    "    shutil.rmtree(foldername)\n",
    "os.makedirs(save_folder+foldername, 0o755)\n",
    "\n",
    "\n",
    "data_augmentation(data_dir=data_dir,true_class=true_class, number_of_samples=number_of_samples,save_aug_dir=save_folder+foldername+\"/\")"
   ]
  },
  {
   "cell_type": "code",
   "execution_count": null,
   "metadata": {
    "collapsed": true
   },
   "outputs": [],
   "source": []
  }
 ],
 "metadata": {
  "kernelspec": {
   "display_name": "Python 3",
   "language": "python",
   "name": "python3"
  },
  "language_info": {
   "codemirror_mode": {
    "name": "ipython",
    "version": 3
   },
   "file_extension": ".py",
   "mimetype": "text/x-python",
   "name": "python",
   "nbconvert_exporter": "python",
   "pygments_lexer": "ipython3",
   "version": "3.5.3"
  }
 },
 "nbformat": 4,
 "nbformat_minor": 2
}
