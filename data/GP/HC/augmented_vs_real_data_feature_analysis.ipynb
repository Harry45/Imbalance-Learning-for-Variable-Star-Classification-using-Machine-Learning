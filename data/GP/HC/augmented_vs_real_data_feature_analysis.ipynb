{
 "cells": [
  {
   "cell_type": "code",
   "execution_count": 1,
   "metadata": {
    "collapsed": true
   },
   "outputs": [],
   "source": [
    "import numpy as np\n",
    "import shutil\n",
    "import os\n",
    "import glob\n",
    "import pandas as pd\n",
    "import matplotlib.pylab as plt\n",
    "import pickle\n",
    "#plt.switch_backend('agg')\n",
    "% matplotlib inline\n",
    "\n",
    "plt.rc('text', usetex=True)\n",
    "plt.rc('font',**{'family':'serif','serif':['Palatino']})\n",
    "figSize  = (12, 8)\n",
    "fontSize = 20"
   ]
  },
  {
   "cell_type": "code",
   "execution_count": 2,
   "metadata": {
    "collapsed": true
   },
   "outputs": [],
   "source": [
    "data_dir_1 = '/Users/A2Z/Desktop/PhD-Code/Features_extraction/latest-version-paper1/training_set_features/'"
   ]
  },
  {
   "cell_type": "code",
   "execution_count": 3,
   "metadata": {
    "collapsed": true
   },
   "outputs": [],
   "source": [
    "type1 = pd.read_csv(data_dir_1+'Type1_features.csv')\n",
    "type6 = pd.read_csv(data_dir_1+'Type6_features.csv')\n",
    "type7 = pd.read_csv(data_dir_1+'Type7_features.csv')\n",
    "type8 = pd.read_csv(data_dir_1+'Type8_features.csv')"
   ]
  },
  {
   "cell_type": "code",
   "execution_count": 4,
   "metadata": {},
   "outputs": [
    {
     "data": {
      "text/html": [
       "<div>\n",
       "<style scoped>\n",
       "    .dataframe tbody tr th:only-of-type {\n",
       "        vertical-align: middle;\n",
       "    }\n",
       "\n",
       "    .dataframe tbody tr th {\n",
       "        vertical-align: top;\n",
       "    }\n",
       "\n",
       "    .dataframe thead th {\n",
       "        text-align: right;\n",
       "    }\n",
       "</style>\n",
       "<table border=\"1\" class=\"dataframe\">\n",
       "  <thead>\n",
       "    <tr style=\"text-align: right;\">\n",
       "      <th></th>\n",
       "      <th>0</th>\n",
       "      <th>1</th>\n",
       "      <th>2</th>\n",
       "      <th>3</th>\n",
       "      <th>4</th>\n",
       "      <th>5</th>\n",
       "      <th>File_Name</th>\n",
       "      <th>True_class_labels</th>\n",
       "    </tr>\n",
       "  </thead>\n",
       "  <tbody>\n",
       "    <tr>\n",
       "      <th>0</th>\n",
       "      <td>-0.120668</td>\n",
       "      <td>18.345299</td>\n",
       "      <td>0.265744</td>\n",
       "      <td>-0.335593</td>\n",
       "      <td>0.488750</td>\n",
       "      <td>0.014486</td>\n",
       "      <td>3035136007042</td>\n",
       "      <td>1</td>\n",
       "    </tr>\n",
       "    <tr>\n",
       "      <th>1</th>\n",
       "      <td>0.078426</td>\n",
       "      <td>17.171222</td>\n",
       "      <td>0.220157</td>\n",
       "      <td>-0.500803</td>\n",
       "      <td>0.388950</td>\n",
       "      <td>0.012821</td>\n",
       "      <td>3027008004601</td>\n",
       "      <td>1</td>\n",
       "    </tr>\n",
       "    <tr>\n",
       "      <th>2</th>\n",
       "      <td>0.039754</td>\n",
       "      <td>18.054979</td>\n",
       "      <td>0.204677</td>\n",
       "      <td>-0.191701</td>\n",
       "      <td>0.381000</td>\n",
       "      <td>0.011336</td>\n",
       "      <td>3041039023698</td>\n",
       "      <td>1</td>\n",
       "    </tr>\n",
       "    <tr>\n",
       "      <th>3</th>\n",
       "      <td>0.076899</td>\n",
       "      <td>16.830888</td>\n",
       "      <td>0.134737</td>\n",
       "      <td>0.210377</td>\n",
       "      <td>0.288300</td>\n",
       "      <td>0.008005</td>\n",
       "      <td>3043078046707</td>\n",
       "      <td>1</td>\n",
       "    </tr>\n",
       "    <tr>\n",
       "      <th>4</th>\n",
       "      <td>-0.372821</td>\n",
       "      <td>15.360511</td>\n",
       "      <td>0.098379</td>\n",
       "      <td>-0.856744</td>\n",
       "      <td>0.164766</td>\n",
       "      <td>0.006405</td>\n",
       "      <td>3021157013367</td>\n",
       "      <td>1</td>\n",
       "    </tr>\n",
       "  </tbody>\n",
       "</table>\n",
       "</div>"
      ],
      "text/plain": [
       "          0          1         2         3         4         5      File_Name  \\\n",
       "0 -0.120668  18.345299  0.265744 -0.335593  0.488750  0.014486  3035136007042   \n",
       "1  0.078426  17.171222  0.220157 -0.500803  0.388950  0.012821  3027008004601   \n",
       "2  0.039754  18.054979  0.204677 -0.191701  0.381000  0.011336  3041039023698   \n",
       "3  0.076899  16.830888  0.134737  0.210377  0.288300  0.008005  3043078046707   \n",
       "4 -0.372821  15.360511  0.098379 -0.856744  0.164766  0.006405  3021157013367   \n",
       "\n",
       "   True_class_labels  \n",
       "0                  1  \n",
       "1                  1  \n",
       "2                  1  \n",
       "3                  1  \n",
       "4                  1  "
      ]
     },
     "execution_count": 4,
     "metadata": {},
     "output_type": "execute_result"
    }
   ],
   "source": [
    "large_sample = pd.concat([type1,type6,type7,type8],axis=0)\n",
    "large_sample.head()"
   ]
  },
  {
   "cell_type": "code",
   "execution_count": 5,
   "metadata": {
    "collapsed": true
   },
   "outputs": [],
   "source": [
    "lC_dir = '../SSS_Per_Var_Cat/'\n",
    "period_data = pd.read_csv('../Ascii_SSS_Per_Table.txt',delim_whitespace=True,names = [\"SSS_ID\", \"File_Name\", \"RA\", \"Dec\", \"Period\", \"V_CSS\", \"Npts\", \"V_amp\", \"Type\", \"Prior_ID\", \"No_Name1\", 'No_Name2'])\n",
    "\n",
    "periods = period_data[['File_Name', 'Period']]\n",
    "large_sample['File_Name']=large_sample['File_Name'].astype(int)\n",
    "large_sample = large_sample.join(periods.set_index('File_Name'), on='File_Name')\n",
    "large_sample = large_sample[['0','1','2','3','4','5', 'Period', 'File_Name', 'True_class_labels']]\n",
    "large_sample = large_sample.rename(columns = {'0':'Skew','1':'Mean','2':'Sigma', '3':'Kurtosis', \\\n",
    "                            '4':'Amplitude', '5':'Mean Variance'})\n"
   ]
  },
  {
   "cell_type": "code",
   "execution_count": null,
   "metadata": {
    "collapsed": true
   },
   "outputs": [],
   "source": []
  },
  {
   "cell_type": "code",
   "execution_count": null,
   "metadata": {},
   "outputs": [],
   "source": [
    "large_sample.head()"
   ]
  },
  {
   "cell_type": "code",
   "execution_count": null,
   "metadata": {},
   "outputs": [],
   "source": [
    "x_max  = large_sample.iloc[:,0:7].max(axis=0)\n",
    "X_norm = large_sample.iloc[:,0:7].divide(x_max, axis=1).abs()\n",
    "X_norm['True_class_labels'] = large_sample['True_class_labels']\n",
    "X_norm.describe()"
   ]
  },
  {
   "cell_type": "code",
   "execution_count": null,
   "metadata": {
    "collapsed": true
   },
   "outputs": [],
   "source": [
    "from sklearn.manifold.t_sne import TSNE\n",
    "def t_SNE(data):\n",
    "    X_transform = TSNE(n_components=2).fit_transform(data)#, perplexity=20, learning_rate=1000, n_iter=3000\n",
    "    \n",
    "    return X_transform"
   ]
  },
  {
   "cell_type": "code",
   "execution_count": null,
   "metadata": {
    "collapsed": true
   },
   "outputs": [],
   "source": [
    "X_2d        = t_SNE(data=X_norm.iloc[:,0:7])\n",
    "y           = X_norm.iloc[:,7]"
   ]
  },
  {
   "cell_type": "code",
   "execution_count": null,
   "metadata": {},
   "outputs": [],
   "source": [
    "target_name = ['RRab','EA', 'Rotational', 'LPV']\n",
    "target_ids  = [1, 6, 7, 8]\n",
    "colors      = 'r', 'g', 'b', 'y'#, 'c', 'm', 'y', 'k', 'w', 'orange', 'purple'\n",
    "types ='Type1_6_7_8normalised'\n",
    "\n",
    "plt.figure(figsize=(14,10))\n",
    "\n",
    "for i, c, label in zip(target_ids, colors, target_name):\n",
    "    plt.scatter(X_2d[y == i, 0], X_2d[y == i, 1], c=c, label=label, marker ='.')\n",
    "plt.tick_params(axis='both', which='major', labelsize=fontSize)\n",
    "plt.xlabel('$t-SNE \\ Feature \\ 1$', fontsize=fontSize)\n",
    "plt.ylabel('$t-SNE \\ Feature \\ 2$',fontsize=fontSize)\n",
    "#plt.legend(loc='best', prop={'size': 24})\n",
    "lgnd = plt.legend(loc=\"best\", numpoints=1, fontsize=fontSize)\n",
    "\n",
    "#change the marker size manually for both lines\n",
    "lgnd.legendHandles[0]._sizes = [200]\n",
    "lgnd.legendHandles[1]._sizes = [200]\n",
    "lgnd.legendHandles[2]._sizes = [200]\n",
    "lgnd.legendHandles[3]._sizes = [200]\n",
    "\n",
    "plt.tight_layout()\n",
    "plt.savefig('train_test_set_Type'+'_'+ types +'.pdf')\n",
    "plt.show()"
   ]
  },
  {
   "cell_type": "markdown",
   "metadata": {
    "collapsed": true
   },
   "source": [
    "# Augmented data"
   ]
  },
  {
   "cell_type": "code",
   "execution_count": 6,
   "metadata": {},
   "outputs": [
    {
     "data": {
      "text/html": [
       "<div>\n",
       "<style scoped>\n",
       "    .dataframe tbody tr th:only-of-type {\n",
       "        vertical-align: middle;\n",
       "    }\n",
       "\n",
       "    .dataframe tbody tr th {\n",
       "        vertical-align: top;\n",
       "    }\n",
       "\n",
       "    .dataframe thead th {\n",
       "        text-align: right;\n",
       "    }\n",
       "</style>\n",
       "<table border=\"1\" class=\"dataframe\">\n",
       "  <thead>\n",
       "    <tr style=\"text-align: right;\">\n",
       "      <th></th>\n",
       "      <th>Skew</th>\n",
       "      <th>Mean</th>\n",
       "      <th>Std</th>\n",
       "      <th>SmallKurtosis</th>\n",
       "      <th>Amplitude</th>\n",
       "      <th>Meanvariance</th>\n",
       "      <th>Period</th>\n",
       "      <th>File_Name</th>\n",
       "      <th>True_class_labels</th>\n",
       "      <th>New_label</th>\n",
       "    </tr>\n",
       "  </thead>\n",
       "  <tbody>\n",
       "    <tr>\n",
       "      <th>0</th>\n",
       "      <td>-0.723422</td>\n",
       "      <td>14.791403</td>\n",
       "      <td>0.235842</td>\n",
       "      <td>-0.509129</td>\n",
       "      <td>0.395027</td>\n",
       "      <td>0.015945</td>\n",
       "      <td>0.488195</td>\n",
       "      <td>3019021001365_2</td>\n",
       "      <td>1</td>\n",
       "      <td>1</td>\n",
       "    </tr>\n",
       "    <tr>\n",
       "      <th>1</th>\n",
       "      <td>-0.669253</td>\n",
       "      <td>14.790440</td>\n",
       "      <td>0.210968</td>\n",
       "      <td>-0.561852</td>\n",
       "      <td>0.357150</td>\n",
       "      <td>0.014264</td>\n",
       "      <td>0.490765</td>\n",
       "      <td>3019021001365_3</td>\n",
       "      <td>1</td>\n",
       "      <td>1</td>\n",
       "    </tr>\n",
       "    <tr>\n",
       "      <th>2</th>\n",
       "      <td>-0.774743</td>\n",
       "      <td>14.799587</td>\n",
       "      <td>0.203295</td>\n",
       "      <td>-0.481658</td>\n",
       "      <td>0.324576</td>\n",
       "      <td>0.013737</td>\n",
       "      <td>0.486848</td>\n",
       "      <td>3019021001365_4</td>\n",
       "      <td>1</td>\n",
       "      <td>1</td>\n",
       "    </tr>\n",
       "    <tr>\n",
       "      <th>3</th>\n",
       "      <td>-0.604560</td>\n",
       "      <td>14.791629</td>\n",
       "      <td>0.206224</td>\n",
       "      <td>-0.593270</td>\n",
       "      <td>0.339688</td>\n",
       "      <td>0.013942</td>\n",
       "      <td>0.486936</td>\n",
       "      <td>3019021001365_5</td>\n",
       "      <td>1</td>\n",
       "      <td>1</td>\n",
       "    </tr>\n",
       "    <tr>\n",
       "      <th>4</th>\n",
       "      <td>-0.060895</td>\n",
       "      <td>19.338218</td>\n",
       "      <td>0.437060</td>\n",
       "      <td>-0.642995</td>\n",
       "      <td>0.798282</td>\n",
       "      <td>0.022601</td>\n",
       "      <td>0.467078</td>\n",
       "      <td>3019094000701_2</td>\n",
       "      <td>1</td>\n",
       "      <td>1</td>\n",
       "    </tr>\n",
       "  </tbody>\n",
       "</table>\n",
       "</div>"
      ],
      "text/plain": [
       "       Skew       Mean       Std  SmallKurtosis  Amplitude  Meanvariance  \\\n",
       "0 -0.723422  14.791403  0.235842      -0.509129   0.395027      0.015945   \n",
       "1 -0.669253  14.790440  0.210968      -0.561852   0.357150      0.014264   \n",
       "2 -0.774743  14.799587  0.203295      -0.481658   0.324576      0.013737   \n",
       "3 -0.604560  14.791629  0.206224      -0.593270   0.339688      0.013942   \n",
       "4 -0.060895  19.338218  0.437060      -0.642995   0.798282      0.022601   \n",
       "\n",
       "     Period        File_Name  True_class_labels  New_label  \n",
       "0  0.488195  3019021001365_2                  1          1  \n",
       "1  0.490765  3019021001365_3                  1          1  \n",
       "2  0.486848  3019021001365_4                  1          1  \n",
       "3  0.486936  3019021001365_5                  1          1  \n",
       "4  0.467078  3019094000701_2                  1          1  "
      ]
     },
     "execution_count": 6,
     "metadata": {},
     "output_type": "execute_result"
    }
   ],
   "source": [
    "#data_dir = './data/rs/MC/training_set/Split_1/Training_features.csv'\n",
    "data_dir = './data/GP/HC/layer3_RRLyrae/training_set/Split_1/Training_features.csv'\n",
    "data = pd.read_csv(data_dir)\n",
    "data.columns=['Skew','Mean','Std','SmallKurtosis','Amplitude','Meanvariance','Period','File_Name','True_class_labels','New_label']\n",
    "data.head()"
   ]
  },
  {
   "cell_type": "code",
   "execution_count": 7,
   "metadata": {
    "collapsed": true
   },
   "outputs": [],
   "source": [
    "type1_aug = data[data.True_class_labels == 1][0:10000]\n",
    "type2_aug = data[data.True_class_labels == 2][0:10000]\n",
    "type3_aug = data[data.True_class_labels == 3][0:10000]\n",
    "type4_aug = data[data.True_class_labels == 4][0:10000]\n",
    "type5_aug = data[data.True_class_labels == 5]\n",
    "type6_aug = data[data.True_class_labels == 6]\n",
    "type7_aug = data[data.True_class_labels == 7]\n",
    "type8_aug = data[data.True_class_labels == 8]\n",
    "type9_aug = data[data.True_class_labels == 9]\n",
    "type10_aug = data[data.True_class_labels == 10]\n",
    "type12_aug = data[data.True_class_labels == 12]"
   ]
  },
  {
   "cell_type": "code",
   "execution_count": 8,
   "metadata": {},
   "outputs": [
    {
     "name": "stdout",
     "output_type": "stream",
     "text": [
      "(10000, 10)\n"
     ]
    }
   ],
   "source": [
    "# type1_aug.[type1_aug.columns[0]].values\n",
    "\n",
    "print(type4_aug.shape)"
   ]
  },
  {
   "cell_type": "code",
   "execution_count": 33,
   "metadata": {},
   "outputs": [
    {
     "name": "stdout",
     "output_type": "stream",
     "text": [
      "(10000,)\n"
     ]
    },
    {
     "data": {
      "image/png": "[encoded data removed]",
      "text/plain": [
       "<Figure size 864x576 with 3 Axes>"
      ]
     },
     "metadata": {},
     "output_type": "display_data"
    }
   ],
   "source": [
    "import numpy as np\n",
    "import matplotlib.pyplot as plt\n",
    "\n",
    "plots = './plots/'\n",
    "\n",
    "features_p = type1_aug.columns[6]\n",
    "features = type1_aug.columns[0]\n",
    "fig = plt.figure(figsize=figSize)\n",
    "print(type4_aug[features_p].shape)\n",
    "\n",
    "scatter_axes = plt.subplot2grid((3, 3), (1, 0), rowspan=2, colspan=2)\n",
    "plt.tick_params(axis='both', which='major', labelsize=fontSize)\n",
    "plt.ylabel('Period', fontsize=fontSize)\n",
    "plt.xlabel(features,fontsize=fontSize)\n",
    "\n",
    "x_hist_axes = plt.subplot2grid((3, 3), (0, 0), colspan=2,sharex=scatter_axes)\n",
    "plt.tick_params(axis='both', which='major', labelsize=fontSize)\n",
    "y_hist_axes = plt.subplot2grid((3, 3), (1, 2), rowspan=2,sharey=scatter_axes)\n",
    "plt.tick_params(axis='both', which='major', labelsize=fontSize)\n",
    "x_hist_axes.axes.get_xaxis().set_visible(False)\n",
    "y_hist_axes.axes.get_yaxis().set_visible(False)\n",
    "\n",
    "\n",
    "\n",
    "scatter_axes.plot(type1_aug[features].values, type1_aug[features_p].values, 'o',c='b', label='RRab')\n",
    "x_hist_axes.hist(type1_aug[features].values,bins=50,histtype='step',color='b',linewidth=3)\n",
    "y_hist_axes.hist(type1_aug[features_p].values, orientation='horizontal',bins=50,histtype='step',color='b',linewidth=3,label='RRab')\n",
    "\n",
    "scatter_axes.plot(type2_aug[features].values, type2_aug[features_p].values, 'o',c='#FF9912',label='RRc')\n",
    "x_hist_axes.hist(type2_aug[features].values,bins=50,histtype='step',color='#FF9912',linewidth=3)\n",
    "y_hist_axes.hist(type2_aug[features_p].values, orientation='horizontal',bins=50,histtype='step',color='#FF9912',linewidth=3,label=\"RRc\")\n",
    "\n",
    "scatter_axes.plot(type3_aug[features].values,type3_aug[features_p].values, 'o',c='#006400',label='RRd')\n",
    "x_hist_axes.hist(type3_aug[features].values,bins=50,histtype='step',color='#006400',linewidth=3)\n",
    "y_hist_axes.hist(type3_aug[features_p].values, orientation='horizontal',bins=50,histtype='step',color='#006400',linewidth=3,label='RRd')\n",
    "\n",
    "scatter_axes.plot(type4_aug[features].values, type4_aug[features_p].values, 'o',c='#8B0000',label='Blazhko')\n",
    "x_hist_axes.hist(type4_aug[features].values, bins=50,histtype='step',color='#8B0000',linewidth=3,label='Blazhko')\n",
    "y_hist_axes.hist(type4_aug[features_p].values, orientation='horizontal',bins=50,histtype='step',color='#8B0000',linewidth=3,label='Blazhko')\n",
    "\n",
    "plt.legend(loc=\"best\",prop={'size':14},bbox_to_anchor=(0.35,0.70))\n",
    "\n",
    "\n",
    "plt.tight_layout()\n",
    "\n",
    "plt.savefig(plots+features+'_period_1.pdf', bbox_inches='tight', pad_inches=0.1)"
   ]
  },
  {
   "cell_type": "code",
   "execution_count": 10,
   "metadata": {},
   "outputs": [
    {
     "data": {
      "image/png": "[encoded data removed]",
      "text/plain": [
       "<Figure size 864x576 with 3 Axes>"
      ]
     },
     "metadata": {},
     "output_type": "display_data"
    }
   ],
   "source": [
    "features = type1_aug.columns[5]\n",
    "\n",
    "fig = plt.figure(figsize=figSize)\n",
    "\n",
    "scatter_axes = plt.subplot2grid((3, 3), (1, 0), rowspan=2, colspan=2)\n",
    "plt.tick_params(axis='both', which='major', labelsize=fontSize)\n",
    "plt.ylabel('Period', fontsize=fontSize)\n",
    "plt.xlabel(features,fontsize=fontSize)\n",
    "\n",
    "x_hist_axes = plt.subplot2grid((3, 3), (0, 0), colspan=2,\n",
    "                               sharex=scatter_axes)\n",
    "plt.tick_params(axis='both', which='major', labelsize=fontSize)\n",
    "\n",
    "y_hist_axes = plt.subplot2grid((3, 3), (1, 2), rowspan=2,\n",
    "                               sharey=scatter_axes)\n",
    "plt.tick_params(axis='both', which='major', labelsize=fontSize)\n",
    "\n",
    "scatter_axes.plot(type5_aug[features].values,type5_aug[features_p].values, '.',c='b')\n",
    "x_hist_axes.hist(type5_aug[features].values,bins=50,histtype='step',color='b',linewidth=3)\n",
    "y_hist_axes.hist(type5_aug[features_p].values , orientation='horizontal',bins=50,histtype='step',color='b',linewidth=3,label='EW')\n",
    "\n",
    "scatter_axes.plot(type6_aug[features].values,type6_aug[features_p].values, '.',c='r')\n",
    "x_hist_axes.hist(type6_aug[features].values,bins=50,histtype='step',color='r',linewidth=3)\n",
    "y_hist_axes.hist(type6_aug[features_p].values, orientation='horizontal',bins=50,histtype='step',color='r',linewidth=3,label=\"EA\")\n",
    "\n",
    "scatter_axes.plot(type7_aug[features].values,type7_aug[features_p].values, '.',c='y')\n",
    "x_hist_axes.hist(type7_aug[features].values,bins=50,histtype='step',color='y',linewidth=3)\n",
    "y_hist_axes.hist(type7_aug[features_p].values, orientation='horizontal',bins=50,histtype='step',color='y',linewidth=3,label='Rot')\n",
    "\n",
    "scatter_axes.plot(type8_aug[features].values, type8_aug[features_p].values, '.',c='g')\n",
    "x_hist_axes.hist(type8_aug[features].values ,bins=50,histtype='step',color='g',linewidth=3)\n",
    "y_hist_axes.hist(type8_aug[features_p].values, orientation='horizontal',bins=50,histtype='step',color='g',linewidth=3,label='LPV')\n",
    "\n",
    "plt.legend(loc=\"best\",prop={'size':14},bbox_to_anchor=(1,0.5))\n",
    "\n",
    "plt.tight_layout()\n",
    "\n",
    "plt.savefig(plots+features+'_period_2.pdf', bbox_inches='tight', pad_inches=0.1)"
   ]
  },
  {
   "cell_type": "code",
   "execution_count": null,
   "metadata": {},
   "outputs": [],
   "source": [
    "features = type1_aug.columns[5]\n",
    "fig = plt.figure(figsize=figSize)\n",
    "\n",
    "scatter_axes = plt.subplot2grid((3, 3), (1, 0), rowspan=2, colspan=2)\n",
    "plt.tick_params(axis='both', which='major', labelsize=fontSize)\n",
    "plt.xlabel(features, fontsize=fontSize)\n",
    "plt.ylabel('Period',fontsize=fontSize)\n",
    "\n",
    "x_hist_axes = plt.subplot2grid((3, 3), (0, 0), colspan=2,\n",
    "                               sharex=scatter_axes)\n",
    "plt.tick_params(axis='both', which='major', labelsize=fontSize)\n",
    "\n",
    "y_hist_axes = plt.subplot2grid((3, 3), (1, 2), rowspan=2,\n",
    "                               sharey=scatter_axes)\n",
    "plt.tick_params(axis='both', which='major', labelsize=fontSize)\n",
    "\n",
    "scatter_axes.plot(type12_aug[features].values, type12_aug[features_p].values, '.',c='#CD6600')\n",
    "x_hist_axes.hist(type12_aug[features].values,bins=50,histtype='step',color='#CD6600',linewidth=3)\n",
    "y_hist_axes.hist(type12_aug[features_p].values, orientation='horizontal',bins=50,histtype='step',color='#CD6600',linewidth=3,label='Cep-II')\n",
    "\n",
    "\n",
    "scatter_axes.plot(type9_aug[features].values, type9_aug[features_p].values, '.',c='m')\n",
    "x_hist_axes.hist(type9_aug[features].values,bins=50,histtype='step',color='m',linewidth=3)\n",
    "y_hist_axes.hist(type9_aug[features_p].values, orientation='horizontal',bins=50,histtype='step',color='m',linewidth=3,label=\"Dscuti\")\n",
    "\n",
    "scatter_axes.plot(type10_aug[features].values, type10_aug[features_p].values, '.',c='c')\n",
    "x_hist_axes.hist(type10_aug[features].values,bins=50,histtype='step',color='c',linewidth=3)\n",
    "y_hist_axes.hist(type10_aug[features_p].values, orientation='horizontal',bins=50,histtype='step',color='c',linewidth=3,label='ACEP')\n",
    "\n",
    "\n",
    "plt.legend(loc=\"best\",prop={'size':14},bbox_to_anchor=(1,0.5))\n",
    "\n",
    "plt.tight_layout()\n",
    "plt.savefig(plots+features+'_period_3.pdf', bbox_inches='tight', pad_inches=0.1)"
   ]
  },
  {
   "cell_type": "markdown",
   "metadata": {},
   "source": [
    "# Small Dataset"
   ]
  },
  {
   "cell_type": "code",
   "execution_count": 11,
   "metadata": {},
   "outputs": [
    {
     "data": {
      "text/html": [
       "<div>\n",
       "<style scoped>\n",
       "    .dataframe tbody tr th:only-of-type {\n",
       "        vertical-align: middle;\n",
       "    }\n",
       "\n",
       "    .dataframe tbody tr th {\n",
       "        vertical-align: top;\n",
       "    }\n",
       "\n",
       "    .dataframe thead th {\n",
       "        text-align: right;\n",
       "    }\n",
       "</style>\n",
       "<table border=\"1\" class=\"dataframe\">\n",
       "  <thead>\n",
       "    <tr style=\"text-align: right;\">\n",
       "      <th></th>\n",
       "      <th>0</th>\n",
       "      <th>1</th>\n",
       "      <th>2</th>\n",
       "      <th>3</th>\n",
       "      <th>4</th>\n",
       "      <th>5</th>\n",
       "      <th>File_Name</th>\n",
       "      <th>True_class_labels</th>\n",
       "    </tr>\n",
       "  </thead>\n",
       "  <tbody>\n",
       "    <tr>\n",
       "      <th>0</th>\n",
       "      <td>-0.120668</td>\n",
       "      <td>18.345299</td>\n",
       "      <td>0.265744</td>\n",
       "      <td>-0.335593</td>\n",
       "      <td>0.488750</td>\n",
       "      <td>0.014486</td>\n",
       "      <td>3035136007042</td>\n",
       "      <td>1</td>\n",
       "    </tr>\n",
       "    <tr>\n",
       "      <th>1</th>\n",
       "      <td>0.078426</td>\n",
       "      <td>17.171222</td>\n",
       "      <td>0.220157</td>\n",
       "      <td>-0.500803</td>\n",
       "      <td>0.388950</td>\n",
       "      <td>0.012821</td>\n",
       "      <td>3027008004601</td>\n",
       "      <td>1</td>\n",
       "    </tr>\n",
       "    <tr>\n",
       "      <th>2</th>\n",
       "      <td>0.039754</td>\n",
       "      <td>18.054979</td>\n",
       "      <td>0.204677</td>\n",
       "      <td>-0.191701</td>\n",
       "      <td>0.381000</td>\n",
       "      <td>0.011336</td>\n",
       "      <td>3041039023698</td>\n",
       "      <td>1</td>\n",
       "    </tr>\n",
       "    <tr>\n",
       "      <th>3</th>\n",
       "      <td>0.076899</td>\n",
       "      <td>16.830888</td>\n",
       "      <td>0.134737</td>\n",
       "      <td>0.210377</td>\n",
       "      <td>0.288300</td>\n",
       "      <td>0.008005</td>\n",
       "      <td>3043078046707</td>\n",
       "      <td>1</td>\n",
       "    </tr>\n",
       "    <tr>\n",
       "      <th>4</th>\n",
       "      <td>-0.372821</td>\n",
       "      <td>15.360511</td>\n",
       "      <td>0.098379</td>\n",
       "      <td>-0.856744</td>\n",
       "      <td>0.164766</td>\n",
       "      <td>0.006405</td>\n",
       "      <td>3021157013367</td>\n",
       "      <td>1</td>\n",
       "    </tr>\n",
       "  </tbody>\n",
       "</table>\n",
       "</div>"
      ],
      "text/plain": [
       "          0          1         2         3         4         5      File_Name  \\\n",
       "0 -0.120668  18.345299  0.265744 -0.335593  0.488750  0.014486  3035136007042   \n",
       "1  0.078426  17.171222  0.220157 -0.500803  0.388950  0.012821  3027008004601   \n",
       "2  0.039754  18.054979  0.204677 -0.191701  0.381000  0.011336  3041039023698   \n",
       "3  0.076899  16.830888  0.134737  0.210377  0.288300  0.008005  3043078046707   \n",
       "4 -0.372821  15.360511  0.098379 -0.856744  0.164766  0.006405  3021157013367   \n",
       "\n",
       "   True_class_labels  \n",
       "0                  1  \n",
       "1                  1  \n",
       "2                  1  \n",
       "3                  1  \n",
       "4                  1  "
      ]
     },
     "execution_count": 11,
     "metadata": {},
     "output_type": "execute_result"
    }
   ],
   "source": [
    "type1 = pd.read_csv(data_dir_1+'Type1_features.csv')\n",
    "type2 = pd.read_csv(data_dir_1+'Type2_features.csv')\n",
    "type3 = pd.read_csv(data_dir_1+'Type3_features.csv')\n",
    "type4 = pd.read_csv(data_dir_1+'Type4_features.csv')\n",
    "type5 = pd.read_csv(data_dir_1+'Type5_features.csv')\n",
    "type6 = pd.read_csv(data_dir_1+'Type6_features.csv')\n",
    "type7 = pd.read_csv(data_dir_1+'Type7_features.csv')\n",
    "type8 = pd.read_csv(data_dir_1+'Type8_features.csv')\n",
    "type9 = pd.read_csv(data_dir_1+'Type9_features.csv')\n",
    "type10 = pd.read_csv(data_dir_1+'Type10_features.csv')\n",
    "type12 = pd.read_csv(data_dir_1+'Type12_features.csv')\n",
    "\n",
    "all_data = pd.concat([type1,type2,type3,type4,type5,type6,type7,type8,type9,type10,type12],axis=0)\n",
    "all_data.head()"
   ]
  },
  {
   "cell_type": "code",
   "execution_count": 12,
   "metadata": {
    "collapsed": true
   },
   "outputs": [],
   "source": [
    "all_data['File_Name']=all_data['File_Name'].astype(int)\n",
    "all_data = all_data.join(periods.set_index('File_Name'), on='File_Name')\n",
    "all_data = all_data[['0','1','2','3','4','5', 'Period', 'File_Name', 'True_class_labels']]\n",
    "all_data = all_data.rename(columns = {'0':'Skew','1':'Mean','2':'Std', '3':'SmallKurtosis', \\\n",
    "                            '4':'Amplitude', '5':'Meanvariance'})\n"
   ]
  },
  {
   "cell_type": "code",
   "execution_count": 13,
   "metadata": {},
   "outputs": [
    {
     "data": {
      "text/html": [
       "<div>\n",
       "<style scoped>\n",
       "    .dataframe tbody tr th:only-of-type {\n",
       "        vertical-align: middle;\n",
       "    }\n",
       "\n",
       "    .dataframe tbody tr th {\n",
       "        vertical-align: top;\n",
       "    }\n",
       "\n",
       "    .dataframe thead th {\n",
       "        text-align: right;\n",
       "    }\n",
       "</style>\n",
       "<table border=\"1\" class=\"dataframe\">\n",
       "  <thead>\n",
       "    <tr style=\"text-align: right;\">\n",
       "      <th></th>\n",
       "      <th>Skew</th>\n",
       "      <th>Mean</th>\n",
       "      <th>Std</th>\n",
       "      <th>SmallKurtosis</th>\n",
       "      <th>Amplitude</th>\n",
       "      <th>Meanvariance</th>\n",
       "      <th>Period</th>\n",
       "      <th>File_Name</th>\n",
       "      <th>True_class_labels</th>\n",
       "    </tr>\n",
       "  </thead>\n",
       "  <tbody>\n",
       "    <tr>\n",
       "      <th>0</th>\n",
       "      <td>-0.120668</td>\n",
       "      <td>18.345299</td>\n",
       "      <td>0.265744</td>\n",
       "      <td>-0.335593</td>\n",
       "      <td>0.488750</td>\n",
       "      <td>0.014486</td>\n",
       "      <td>0.567941</td>\n",
       "      <td>3035136007042</td>\n",
       "      <td>1</td>\n",
       "    </tr>\n",
       "    <tr>\n",
       "      <th>1</th>\n",
       "      <td>0.078426</td>\n",
       "      <td>17.171222</td>\n",
       "      <td>0.220157</td>\n",
       "      <td>-0.500803</td>\n",
       "      <td>0.388950</td>\n",
       "      <td>0.012821</td>\n",
       "      <td>0.478337</td>\n",
       "      <td>3027008004601</td>\n",
       "      <td>1</td>\n",
       "    </tr>\n",
       "    <tr>\n",
       "      <th>2</th>\n",
       "      <td>0.039754</td>\n",
       "      <td>18.054979</td>\n",
       "      <td>0.204677</td>\n",
       "      <td>-0.191701</td>\n",
       "      <td>0.381000</td>\n",
       "      <td>0.011336</td>\n",
       "      <td>0.624360</td>\n",
       "      <td>3041039023698</td>\n",
       "      <td>1</td>\n",
       "    </tr>\n",
       "    <tr>\n",
       "      <th>3</th>\n",
       "      <td>0.076899</td>\n",
       "      <td>16.830888</td>\n",
       "      <td>0.134737</td>\n",
       "      <td>0.210377</td>\n",
       "      <td>0.288300</td>\n",
       "      <td>0.008005</td>\n",
       "      <td>0.612875</td>\n",
       "      <td>3043078046707</td>\n",
       "      <td>1</td>\n",
       "    </tr>\n",
       "    <tr>\n",
       "      <th>4</th>\n",
       "      <td>-0.372821</td>\n",
       "      <td>15.360511</td>\n",
       "      <td>0.098379</td>\n",
       "      <td>-0.856744</td>\n",
       "      <td>0.164766</td>\n",
       "      <td>0.006405</td>\n",
       "      <td>0.788797</td>\n",
       "      <td>3021157013367</td>\n",
       "      <td>1</td>\n",
       "    </tr>\n",
       "  </tbody>\n",
       "</table>\n",
       "</div>"
      ],
      "text/plain": [
       "       Skew       Mean       Std  SmallKurtosis  Amplitude  Meanvariance  \\\n",
       "0 -0.120668  18.345299  0.265744      -0.335593   0.488750      0.014486   \n",
       "1  0.078426  17.171222  0.220157      -0.500803   0.388950      0.012821   \n",
       "2  0.039754  18.054979  0.204677      -0.191701   0.381000      0.011336   \n",
       "3  0.076899  16.830888  0.134737       0.210377   0.288300      0.008005   \n",
       "4 -0.372821  15.360511  0.098379      -0.856744   0.164766      0.006405   \n",
       "\n",
       "     Period      File_Name  True_class_labels  \n",
       "0  0.567941  3035136007042                  1  \n",
       "1  0.478337  3027008004601                  1  \n",
       "2  0.624360  3041039023698                  1  \n",
       "3  0.612875  3043078046707                  1  \n",
       "4  0.788797  3021157013367                  1  "
      ]
     },
     "execution_count": 13,
     "metadata": {},
     "output_type": "execute_result"
    }
   ],
   "source": [
    "all_data.head()"
   ]
  },
  {
   "cell_type": "code",
   "execution_count": 14,
   "metadata": {
    "collapsed": true
   },
   "outputs": [],
   "source": [
    "type1_ori = all_data[all_data.True_class_labels==1]\n",
    "type2_ori = all_data[all_data.True_class_labels==2]\n",
    "type3_ori = all_data[all_data.True_class_labels==3]\n",
    "type4_ori = all_data[all_data.True_class_labels==4]\n",
    "type7_ori = all_data[all_data.True_class_labels==7]\n",
    "type8_ori = all_data[all_data.True_class_labels==8]\n",
    "type9_ori = all_data[all_data.True_class_labels==9]\n",
    "type10_ori = all_data[all_data.True_class_labels==10]\n",
    "type12_ori = all_data[all_data.True_class_labels==12]"
   ]
  },
  {
   "cell_type": "code",
   "execution_count": 37,
   "metadata": {},
   "outputs": [
    {
     "data": {
      "image/png": "[encoded data removed]",
      "text/plain": [
       "<Figure size 864x576 with 3 Axes>"
      ]
     },
     "metadata": {},
     "output_type": "display_data"
    }
   ],
   "source": [
    "import numpy as np\n",
    "import matplotlib.pyplot as plt\n",
    "\n",
    "plots = './plots/'\n",
    "\n",
    "classes_aug = type2_aug\n",
    "classes_ori = type2_ori\n",
    "\n",
    "features_p = type1_aug.columns[6]\n",
    "features = type1_aug.columns[0]\n",
    "fig = plt.figure(figsize=figSize)\n",
    "\n",
    "scatter_axes = plt.subplot2grid((3, 3), (1, 0), rowspan=2, colspan=2)\n",
    "plt.tick_params(axis='both', which='major', labelsize=fontSize)\n",
    "plt.ylabel('Period', fontsize=fontSize)\n",
    "plt.xlabel(features,fontsize=fontSize)\n",
    "\n",
    "x_hist_axes = plt.subplot2grid((3, 3), (0, 0), colspan=2,sharex=scatter_axes)\n",
    "plt.tick_params(axis='both', which='major', labelsize=fontSize)\n",
    "y_hist_axes = plt.subplot2grid((3, 3), (1, 2), rowspan=2,sharey=scatter_axes)\n",
    "plt.tick_params(axis='both', which='major', labelsize=fontSize)\n",
    "x_hist_axes.axes.get_xaxis().set_visible(False)\n",
    "y_hist_axes.axes.get_yaxis().set_visible(False)\n",
    "\n",
    "scatter_axes.plot(classes_aug[features].values, classes_aug[features_p].values, 'o',c='#800080')\n",
    "x_hist_axes.hist(classes_aug[features].values,bins=50,histtype='step',color='#800080',linewidth=3)\n",
    "y_hist_axes.hist(classes_aug[features_p].values, orientation='horizontal',bins=50,histtype='step',color='#800080',linewidth=3, label='Augmented RRc')\n",
    "\n",
    "scatter_axes.plot(classes_ori[features].values, classes_ori[features_p].values, '<',c='#EE9A00', alpha=0.5)\n",
    "x_hist_axes.hist(classes_ori[features].values,bins=50,histtype='step',color='#EE9A00',linewidth=3)\n",
    "y_hist_axes.hist(classes_ori[features_p].values, orientation='horizontal',bins=50,histtype='step',color='#EE9A00',linewidth=3,label='Real RRc')\n",
    "\n",
    "\n",
    "plt.legend(loc=\"best\",prop={'size':14},bbox_to_anchor=(0.25,0.925))\n",
    "\n",
    "plt.tight_layout()\n",
    "\n",
    "plt.savefig(plots+features+'_Aug_vs_Ori_8.pdf', bbox_inches='tight', pad_inches=0.1)"
   ]
  },
  {
   "cell_type": "code",
   "execution_count": null,
   "metadata": {
    "collapsed": true
   },
   "outputs": [],
   "source": [
    "small_sample_data = all_data[all_data.True_class_labels.isin([4,9,10,12])]"
   ]
  },
  {
   "cell_type": "code",
   "execution_count": null,
   "metadata": {},
   "outputs": [],
   "source": [
    "x_max  = small_sample_data.iloc[:,0:7].max(axis=0)\n",
    "X_norm = small_sample_data.iloc[:,0:7].divide(x_max, axis=1).abs()\n",
    "X_norm['True_class_labels'] = small_sample_data['True_class_labels']\n",
    "X_norm.describe()"
   ]
  },
  {
   "cell_type": "code",
   "execution_count": null,
   "metadata": {
    "collapsed": true
   },
   "outputs": [],
   "source": [
    "X_2d        = t_SNE(data=X_norm.iloc[:,0:7])\n",
    "y           = X_norm.True_class_labels"
   ]
  },
  {
   "cell_type": "code",
   "execution_count": null,
   "metadata": {},
   "outputs": [],
   "source": [
    "target_name = ['Blazhko','$\\delta$-Scuti', 'ACEP', 'Cep-II']\n",
    "target_ids  = [4, 9, 10, 12]\n",
    "colors      = 'r', 'g', 'b', 'y'#, 'c', 'm', 'y', 'k', 'w', 'orange', 'purple'\n",
    "types ='Type4_9_10_12_normalised'\n",
    "\n",
    "plt.figure(figsize=(14,10))\n",
    "\n",
    "for i, c, label in zip(target_ids, colors, target_name):\n",
    "    plt.scatter(X_2d[y == i, 0], X_2d[y == i, 1], c=c, label=label, marker ='.')\n",
    "plt.tick_params(axis='both', which='major', labelsize=fontSize)\n",
    "plt.xlabel('$t-SNE \\ Feature \\ 1$', fontsize=fontSize)\n",
    "plt.ylabel('$t-SNE \\ Feature \\ 2$',fontsize=fontSize)\n",
    "#plt.legend(loc='best', prop={'size': 24})\n",
    "lgnd = plt.legend(loc=\"best\", numpoints=1, fontsize=fontSize)\n",
    "\n",
    "#change the marker size manually for both lines\n",
    "lgnd.legendHandles[0]._sizes = [200]\n",
    "lgnd.legendHandles[1]._sizes = [200]\n",
    "lgnd.legendHandles[2]._sizes = [200]\n",
    "lgnd.legendHandles[3]._sizes = [200]\n",
    "\n",
    "plt.tight_layout()\n",
    "plt.savefig('real_train_test_set_Type'+'_'+ types +'.pdf')\n",
    "plt.show()"
   ]
  },
  {
   "cell_type": "code",
   "execution_count": null,
   "metadata": {
    "collapsed": true
   },
   "outputs": [],
   "source": []
  }
 ],
 "metadata": {
  "kernelspec": {
   "display_name": "Python 3",
   "language": "python",
   "name": "python3"
  },
  "language_info": {
   "codemirror_mode": {
    "name": "ipython",
    "version": 3
   },
   "file_extension": ".py",
   "mimetype": "text/x-python",
   "name": "python",
   "nbconvert_exporter": "python",
   "pygments_lexer": "ipython3",
   "version": "3.5.3"
  }
 },
 "nbformat": 4,
 "nbformat_minor": 2
}
